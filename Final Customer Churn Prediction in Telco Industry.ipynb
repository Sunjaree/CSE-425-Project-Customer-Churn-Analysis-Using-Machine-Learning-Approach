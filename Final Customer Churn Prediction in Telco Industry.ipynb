{
 "cells": [
  {
   "cell_type": "markdown",
   "id": "ad662350",
   "metadata": {},
   "source": [
    "## Libraries"
   ]
  },
  {
   "cell_type": "code",
   "execution_count": 3,
   "id": "5141b5d3",
   "metadata": {},
   "outputs": [],
   "source": [
    "import numpy as np\n",
    "import pandas as pd\n",
    "import seaborn as sns\n",
    "from sklearn import metrics\n",
    "import matplotlib.pyplot as plt\n",
    "from imblearn.over_sampling import SMOTE\n",
    "from sklearn.preprocessing import LabelEncoder\n",
    "from sklearn.model_selection import train_test_split\n",
    "from sklearn.metrics import roc_curve, auc\n",
    "\n",
    "import warnings\n",
    "warnings.filterwarnings('ignore')"
   ]
  },
  {
   "cell_type": "markdown",
   "id": "e2073fc4",
   "metadata": {},
   "source": [
    "## Loading Dataset"
   ]
  },
  {
   "cell_type": "code",
   "execution_count": 4,
   "id": "69fd9eda",
   "metadata": {},
   "outputs": [
    {
     "data": {
      "text/html": [
       "<div>\n",
       "<style scoped>\n",
       "    .dataframe tbody tr th:only-of-type {\n",
       "        vertical-align: middle;\n",
       "    }\n",
       "\n",
       "    .dataframe tbody tr th {\n",
       "        vertical-align: top;\n",
       "    }\n",
       "\n",
       "    .dataframe thead th {\n",
       "        text-align: right;\n",
       "    }\n",
       "</style>\n",
       "<table border=\"1\" class=\"dataframe\">\n",
       "  <thead>\n",
       "    <tr style=\"text-align: right;\">\n",
       "      <th></th>\n",
       "      <th>Call  Failure</th>\n",
       "      <th>Complains</th>\n",
       "      <th>Subscription  Length</th>\n",
       "      <th>Charge  Amount</th>\n",
       "      <th>Seconds of Use</th>\n",
       "      <th>Frequency of use</th>\n",
       "      <th>Frequency of SMS</th>\n",
       "      <th>Distinct Called Numbers</th>\n",
       "      <th>Age Group</th>\n",
       "      <th>Tariff Plan</th>\n",
       "      <th>Status</th>\n",
       "      <th>Age</th>\n",
       "      <th>Customer Value</th>\n",
       "      <th>Churn</th>\n",
       "    </tr>\n",
       "  </thead>\n",
       "  <tbody>\n",
       "    <tr>\n",
       "      <th>0</th>\n",
       "      <td>8</td>\n",
       "      <td>0</td>\n",
       "      <td>38</td>\n",
       "      <td>0</td>\n",
       "      <td>4370</td>\n",
       "      <td>71</td>\n",
       "      <td>5</td>\n",
       "      <td>17</td>\n",
       "      <td>3</td>\n",
       "      <td>1</td>\n",
       "      <td>1</td>\n",
       "      <td>30</td>\n",
       "      <td>197.640</td>\n",
       "      <td>0</td>\n",
       "    </tr>\n",
       "    <tr>\n",
       "      <th>1</th>\n",
       "      <td>0</td>\n",
       "      <td>0</td>\n",
       "      <td>39</td>\n",
       "      <td>0</td>\n",
       "      <td>318</td>\n",
       "      <td>5</td>\n",
       "      <td>7</td>\n",
       "      <td>4</td>\n",
       "      <td>2</td>\n",
       "      <td>1</td>\n",
       "      <td>2</td>\n",
       "      <td>25</td>\n",
       "      <td>46.035</td>\n",
       "      <td>0</td>\n",
       "    </tr>\n",
       "    <tr>\n",
       "      <th>2</th>\n",
       "      <td>10</td>\n",
       "      <td>0</td>\n",
       "      <td>37</td>\n",
       "      <td>0</td>\n",
       "      <td>2453</td>\n",
       "      <td>60</td>\n",
       "      <td>359</td>\n",
       "      <td>24</td>\n",
       "      <td>3</td>\n",
       "      <td>1</td>\n",
       "      <td>1</td>\n",
       "      <td>30</td>\n",
       "      <td>1536.520</td>\n",
       "      <td>0</td>\n",
       "    </tr>\n",
       "    <tr>\n",
       "      <th>3</th>\n",
       "      <td>10</td>\n",
       "      <td>0</td>\n",
       "      <td>38</td>\n",
       "      <td>0</td>\n",
       "      <td>4198</td>\n",
       "      <td>66</td>\n",
       "      <td>1</td>\n",
       "      <td>35</td>\n",
       "      <td>1</td>\n",
       "      <td>1</td>\n",
       "      <td>1</td>\n",
       "      <td>15</td>\n",
       "      <td>240.020</td>\n",
       "      <td>0</td>\n",
       "    </tr>\n",
       "    <tr>\n",
       "      <th>4</th>\n",
       "      <td>3</td>\n",
       "      <td>0</td>\n",
       "      <td>38</td>\n",
       "      <td>0</td>\n",
       "      <td>2393</td>\n",
       "      <td>58</td>\n",
       "      <td>2</td>\n",
       "      <td>33</td>\n",
       "      <td>1</td>\n",
       "      <td>1</td>\n",
       "      <td>1</td>\n",
       "      <td>15</td>\n",
       "      <td>145.805</td>\n",
       "      <td>0</td>\n",
       "    </tr>\n",
       "    <tr>\n",
       "      <th>...</th>\n",
       "      <td>...</td>\n",
       "      <td>...</td>\n",
       "      <td>...</td>\n",
       "      <td>...</td>\n",
       "      <td>...</td>\n",
       "      <td>...</td>\n",
       "      <td>...</td>\n",
       "      <td>...</td>\n",
       "      <td>...</td>\n",
       "      <td>...</td>\n",
       "      <td>...</td>\n",
       "      <td>...</td>\n",
       "      <td>...</td>\n",
       "      <td>...</td>\n",
       "    </tr>\n",
       "    <tr>\n",
       "      <th>3145</th>\n",
       "      <td>21</td>\n",
       "      <td>0</td>\n",
       "      <td>19</td>\n",
       "      <td>2</td>\n",
       "      <td>6697</td>\n",
       "      <td>147</td>\n",
       "      <td>92</td>\n",
       "      <td>44</td>\n",
       "      <td>2</td>\n",
       "      <td>2</td>\n",
       "      <td>1</td>\n",
       "      <td>25</td>\n",
       "      <td>721.980</td>\n",
       "      <td>0</td>\n",
       "    </tr>\n",
       "    <tr>\n",
       "      <th>3146</th>\n",
       "      <td>17</td>\n",
       "      <td>0</td>\n",
       "      <td>17</td>\n",
       "      <td>1</td>\n",
       "      <td>9237</td>\n",
       "      <td>177</td>\n",
       "      <td>80</td>\n",
       "      <td>42</td>\n",
       "      <td>5</td>\n",
       "      <td>1</td>\n",
       "      <td>1</td>\n",
       "      <td>55</td>\n",
       "      <td>261.210</td>\n",
       "      <td>0</td>\n",
       "    </tr>\n",
       "    <tr>\n",
       "      <th>3147</th>\n",
       "      <td>13</td>\n",
       "      <td>0</td>\n",
       "      <td>18</td>\n",
       "      <td>4</td>\n",
       "      <td>3157</td>\n",
       "      <td>51</td>\n",
       "      <td>38</td>\n",
       "      <td>21</td>\n",
       "      <td>3</td>\n",
       "      <td>1</td>\n",
       "      <td>1</td>\n",
       "      <td>30</td>\n",
       "      <td>280.320</td>\n",
       "      <td>0</td>\n",
       "    </tr>\n",
       "    <tr>\n",
       "      <th>3148</th>\n",
       "      <td>7</td>\n",
       "      <td>0</td>\n",
       "      <td>11</td>\n",
       "      <td>2</td>\n",
       "      <td>4695</td>\n",
       "      <td>46</td>\n",
       "      <td>222</td>\n",
       "      <td>12</td>\n",
       "      <td>3</td>\n",
       "      <td>1</td>\n",
       "      <td>1</td>\n",
       "      <td>30</td>\n",
       "      <td>1077.640</td>\n",
       "      <td>0</td>\n",
       "    </tr>\n",
       "    <tr>\n",
       "      <th>3149</th>\n",
       "      <td>8</td>\n",
       "      <td>1</td>\n",
       "      <td>11</td>\n",
       "      <td>2</td>\n",
       "      <td>1792</td>\n",
       "      <td>25</td>\n",
       "      <td>7</td>\n",
       "      <td>9</td>\n",
       "      <td>3</td>\n",
       "      <td>1</td>\n",
       "      <td>1</td>\n",
       "      <td>30</td>\n",
       "      <td>100.680</td>\n",
       "      <td>1</td>\n",
       "    </tr>\n",
       "  </tbody>\n",
       "</table>\n",
       "<p>3150 rows × 14 columns</p>\n",
       "</div>"
      ],
      "text/plain": [
       "      Call  Failure  Complains  Subscription  Length  Charge  Amount  \\\n",
       "0                 8          0                    38               0   \n",
       "1                 0          0                    39               0   \n",
       "2                10          0                    37               0   \n",
       "3                10          0                    38               0   \n",
       "4                 3          0                    38               0   \n",
       "...             ...        ...                   ...             ...   \n",
       "3145             21          0                    19               2   \n",
       "3146             17          0                    17               1   \n",
       "3147             13          0                    18               4   \n",
       "3148              7          0                    11               2   \n",
       "3149              8          1                    11               2   \n",
       "\n",
       "      Seconds of Use  Frequency of use  Frequency of SMS  \\\n",
       "0               4370                71                 5   \n",
       "1                318                 5                 7   \n",
       "2               2453                60               359   \n",
       "3               4198                66                 1   \n",
       "4               2393                58                 2   \n",
       "...              ...               ...               ...   \n",
       "3145            6697               147                92   \n",
       "3146            9237               177                80   \n",
       "3147            3157                51                38   \n",
       "3148            4695                46               222   \n",
       "3149            1792                25                 7   \n",
       "\n",
       "      Distinct Called Numbers  Age Group  Tariff Plan  Status  Age  \\\n",
       "0                          17          3            1       1   30   \n",
       "1                           4          2            1       2   25   \n",
       "2                          24          3            1       1   30   \n",
       "3                          35          1            1       1   15   \n",
       "4                          33          1            1       1   15   \n",
       "...                       ...        ...          ...     ...  ...   \n",
       "3145                       44          2            2       1   25   \n",
       "3146                       42          5            1       1   55   \n",
       "3147                       21          3            1       1   30   \n",
       "3148                       12          3            1       1   30   \n",
       "3149                        9          3            1       1   30   \n",
       "\n",
       "      Customer Value  Churn  \n",
       "0            197.640      0  \n",
       "1             46.035      0  \n",
       "2           1536.520      0  \n",
       "3            240.020      0  \n",
       "4            145.805      0  \n",
       "...              ...    ...  \n",
       "3145         721.980      0  \n",
       "3146         261.210      0  \n",
       "3147         280.320      0  \n",
       "3148        1077.640      0  \n",
       "3149         100.680      1  \n",
       "\n",
       "[3150 rows x 14 columns]"
      ]
     },
     "execution_count": 4,
     "metadata": {},
     "output_type": "execute_result"
    }
   ],
   "source": [
    "df = pd.read_csv(r\"C:\\Users\\sunja\\OneDrive\\Desktop\\Machine Learning\\Customer Churn Analysis\\Dataset\\churn.csv\")\n",
    "df\n"
   ]
  },
  {
   "cell_type": "code",
   "execution_count": 5,
   "id": "7ea82911",
   "metadata": {},
   "outputs": [],
   "source": [
    "X = df.drop('Churn',axis= 1)\n",
    "y = df[['Churn']]"
   ]
  },
  {
   "cell_type": "markdown",
   "id": "a2205788",
   "metadata": {},
   "source": [
    "## Visualization "
   ]
  },
  {
   "cell_type": "code",
   "execution_count": 6,
   "id": "ff0dfb5d",
   "metadata": {},
   "outputs": [
    {
     "data": {
      "image/png": "[encoded data removed]",
      "text/plain": [
       "<Figure size 432x288 with 1 Axes>"
      ]
     },
     "metadata": {
      "needs_background": "light"
     },
     "output_type": "display_data"
    },
    {
     "data": {
      "text/plain": [
       "<Figure size 432x288 with 0 Axes>"
      ]
     },
     "metadata": {},
     "output_type": "display_data"
    }
   ],
   "source": [
    "sns.countplot(x = 'Churn', data = df, palette = 'hls')\n",
    "plt.show()\n",
    "plt.savefig('count_plot')"
   ]
  },
  {
   "cell_type": "code",
   "execution_count": 7,
   "id": "13f3f29a",
   "metadata": {
    "scrolled": false
   },
   "outputs": [
    {
     "data": {
      "text/html": [
       "<div>\n",
       "<style scoped>\n",
       "    .dataframe tbody tr th:only-of-type {\n",
       "        vertical-align: middle;\n",
       "    }\n",
       "\n",
       "    .dataframe tbody tr th {\n",
       "        vertical-align: top;\n",
       "    }\n",
       "\n",
       "    .dataframe thead th {\n",
       "        text-align: right;\n",
       "    }\n",
       "</style>\n",
       "<table border=\"1\" class=\"dataframe\">\n",
       "  <thead>\n",
       "    <tr style=\"text-align: right;\">\n",
       "      <th>Churn</th>\n",
       "      <th>0</th>\n",
       "      <th>1</th>\n",
       "    </tr>\n",
       "    <tr>\n",
       "      <th>Complains</th>\n",
       "      <th></th>\n",
       "      <th></th>\n",
       "    </tr>\n",
       "  </thead>\n",
       "  <tbody>\n",
       "    <tr>\n",
       "      <th>0</th>\n",
       "      <td>2614</td>\n",
       "      <td>295</td>\n",
       "    </tr>\n",
       "    <tr>\n",
       "      <th>1</th>\n",
       "      <td>41</td>\n",
       "      <td>200</td>\n",
       "    </tr>\n",
       "  </tbody>\n",
       "</table>\n",
       "</div>"
      ],
      "text/plain": [
       "Churn         0    1\n",
       "Complains           \n",
       "0          2614  295\n",
       "1            41  200"
      ]
     },
     "execution_count": 7,
     "metadata": {},
     "output_type": "execute_result"
    },
    {
     "data": {
      "image/png": "[encoded data removed]",
      "text/plain": [
       "<Figure size 432x288 with 2 Axes>"
      ]
     },
     "metadata": {
      "needs_background": "light"
     },
     "output_type": "display_data"
    }
   ],
   "source": [
    "lol = pd.crosstab(df.Complains , df.Churn)\n",
    "sns.heatmap(lol,annot = True)\n",
    "lol"
   ]
  },
  {
   "cell_type": "markdown",
   "id": "0e3e3fb8",
   "metadata": {},
   "source": [
    "## Percentages"
   ]
  },
  {
   "cell_type": "code",
   "execution_count": 8,
   "id": "bba41d05",
   "metadata": {},
   "outputs": [
    {
     "name": "stdout",
     "output_type": "stream",
     "text": [
      "Non Churn:  2655\n",
      "Churn:  495\n",
      "percentage of negative is:  84.28571428571429\n",
      "percentage of positive is:  15.714285714285714\n"
     ]
    }
   ],
   "source": [
    "Non_Churn = len(df[df['Churn'] == 0])\n",
    "Churn = len(df[df['Churn'] == 1])\n",
    "\n",
    "percent_of_Non_Churn =  Non_Churn / (Non_Churn + Churn)\n",
    "percent_of_Churn = Churn / (Non_Churn + Churn)\n",
    "\n",
    "print(\"Non Churn: \", Non_Churn)\n",
    "print(\"Churn: \", Churn)\n",
    "\n",
    "print(\"percentage of negative is: \", percent_of_Non_Churn * 100)\n",
    "print(\"percentage of positive is: \", percent_of_Churn * 100)"
   ]
  },
  {
   "cell_type": "markdown",
   "id": "e383ecf0",
   "metadata": {},
   "source": [
    "## Train Test Split"
   ]
  },
  {
   "cell_type": "code",
   "execution_count": 9,
   "id": "f2731aa7",
   "metadata": {},
   "outputs": [
    {
     "data": {
      "text/plain": [
       "0    776\n",
       "1    169\n",
       "Name: Churn, dtype: int64"
      ]
     },
     "execution_count": 9,
     "metadata": {},
     "output_type": "execute_result"
    }
   ],
   "source": [
    "X_train,X_test,y_train,y_test = train_test_split(X,y,test_size=0.3,random_state=0)\n",
    "y_test['Churn'].value_counts()"
   ]
  },
  {
   "cell_type": "markdown",
   "id": "e6ffe88a",
   "metadata": {},
   "source": [
    "## Standardization"
   ]
  },
  {
   "cell_type": "code",
   "execution_count": 10,
   "id": "61c7f648",
   "metadata": {},
   "outputs": [],
   "source": [
    "from  sklearn.preprocessing import StandardScaler\n",
    "scaler = StandardScaler()\n",
    "scaler.fit(X_train)\n",
    "X_train = scaler.transform(X_train)\n",
    "X_test = scaler.transform(X_test)"
   ]
  },
  {
   "cell_type": "code",
   "execution_count": 11,
   "id": "e28073ee",
   "metadata": {},
   "outputs": [
    {
     "data": {
      "text/plain": [
       "0    1879\n",
       "1     326\n",
       "Name: Churn, dtype: int64"
      ]
     },
     "execution_count": 11,
     "metadata": {},
     "output_type": "execute_result"
    }
   ],
   "source": [
    "y_train['Churn'].value_counts()"
   ]
  },
  {
   "cell_type": "markdown",
   "id": "99606dab",
   "metadata": {},
   "source": [
    "## Smote"
   ]
  },
  {
   "cell_type": "code",
   "execution_count": 12,
   "id": "be879f8a",
   "metadata": {},
   "outputs": [],
   "source": [
    "smt = SMOTE('minority',random_state=0)\n",
    "X_train,y_train = smt.fit_resample(X_train, y_train)\n"
   ]
  },
  {
   "cell_type": "code",
   "execution_count": 13,
   "id": "f751a3e5",
   "metadata": {},
   "outputs": [
    {
     "data": {
      "text/plain": [
       "0    1879\n",
       "1    1879\n",
       "Name: Churn, dtype: int64"
      ]
     },
     "execution_count": 13,
     "metadata": {},
     "output_type": "execute_result"
    }
   ],
   "source": [
    "y_train['Churn'].value_counts()"
   ]
  },
  {
   "cell_type": "markdown",
   "id": "bf941e0d",
   "metadata": {},
   "source": [
    "## Logistic Regression"
   ]
  },
  {
   "cell_type": "code",
   "execution_count": 21,
   "id": "444ade14",
   "metadata": {},
   "outputs": [
    {
     "name": "stdout",
     "output_type": "stream",
     "text": [
      "Logistic Regression: \n",
      "[[659 117]\n",
      " [ 25 144]]\n",
      "Accuracy:  84.97354497354497\n",
      "              precision    recall  f1-score   support\n",
      "\n",
      "           0       0.96      0.85      0.90       776\n",
      "           1       0.55      0.85      0.67       169\n",
      "\n",
      "    accuracy                           0.85       945\n",
      "   macro avg       0.76      0.85      0.79       945\n",
      "weighted avg       0.89      0.85      0.86       945\n",
      "\n"
     ]
    }
   ],
   "source": [
    "from sklearn.linear_model import LogisticRegression\n",
    "print(\"Logistic Regression: \")\n",
    "logRegression = LogisticRegression()\n",
    "logRegression.fit(X_train,y_train)\n",
    "y_predictionLogistic = logRegression.predict(X_test)\n",
    "print(metrics.confusion_matrix(y_test,y_predictionLogistic))\n",
    "print(\"Accuracy: \",metrics.accuracy_score(y_test, y_predictionLogistic)*100)"
   ]
  },
  {
   "cell_type": "markdown",
   "id": "9840567c",
   "metadata": {},
   "source": [
    "## RandomForest Classifier"
   ]
  },
  {
   "cell_type": "code",
   "execution_count": 15,
   "id": "af588402",
   "metadata": {},
   "outputs": [
    {
     "name": "stdout",
     "output_type": "stream",
     "text": [
      "Random Forest Classifier: \n",
      "[[753  23]\n",
      " [ 23 146]]\n",
      "accuracy:  95.13227513227514\n"
     ]
    }
   ],
   "source": [
    "from sklearn.ensemble import RandomForestClassifier\n",
    "print(\"Random Forest Classifier: \")\n",
    "RandomClassifier = RandomForestClassifier(random_state = 0)\n",
    "RandomClassifier.fit(X_train, y_train)\n",
    "y_predictionRandomForest = RandomClassifier.predict(X_test)\n",
    "print(metrics.confusion_matrix(y_test,y_predictionRandomForest))\n",
    "print(\"accuracy: \", metrics.accuracy_score(y_test,y_predictionRandomForest) * 100)\n"
   ]
  },
  {
   "cell_type": "markdown",
   "id": "2cb7df0b",
   "metadata": {},
   "source": [
    "## DecisionTree Classifier"
   ]
  },
  {
   "cell_type": "code",
   "execution_count": 16,
   "id": "455d7351",
   "metadata": {},
   "outputs": [
    {
     "name": "stdout",
     "output_type": "stream",
     "text": [
      "Decision Tree Classifier: \n",
      "[[744  32]\n",
      " [ 38 131]]\n",
      "accuracy:  92.5925925925926\n"
     ]
    }
   ],
   "source": [
    "from sklearn import tree\n",
    "print(\"Decision Tree Classifier: \")\n",
    "DecisionTree = tree.DecisionTreeClassifier(random_state=0)\n",
    "DecisionTree.fit(X_train,y_train)\n",
    "y_predictionDecisionTree = DecisionTree.predict(X_test)\n",
    "print(metrics.confusion_matrix(y_test,y_predictionDecisionTree))\n",
    "print(\"accuracy: \", metrics.accuracy_score(y_test,y_predictionDecisionTree) * 100)\n",
    "\n"
   ]
  },
  {
   "cell_type": "markdown",
   "id": "afca6023",
   "metadata": {},
   "source": [
    "## K-Nearest Neighbour Classifier"
   ]
  },
  {
   "cell_type": "code",
   "execution_count": 17,
   "id": "f6ee50a2",
   "metadata": {},
   "outputs": [
    {
     "name": "stdout",
     "output_type": "stream",
     "text": [
      "K-Nearest Neighbour Classifier: \n",
      "[[726  50]\n",
      " [ 21 148]]\n",
      "accuracy:  92.48677248677248\n"
     ]
    }
   ],
   "source": [
    "from sklearn.neighbors import KNeighborsClassifier\n",
    "print(\"K-Nearest Neighbour Classifier: \")\n",
    "KNN = KNeighborsClassifier(n_neighbors=5)\n",
    "KNN.fit(X_train,y_train)\n",
    "y_predictionKNN = KNN.predict(X_test)\n",
    "print(metrics.confusion_matrix(y_test,y_predictionKNN))\n",
    "print(\"accuracy: \", metrics.accuracy_score(y_test,y_predictionKNN) * 100)"
   ]
  },
  {
   "cell_type": "markdown",
   "id": "aff8c373",
   "metadata": {},
   "source": [
    "## AdaBoostClassifier"
   ]
  },
  {
   "cell_type": "code",
   "execution_count": 18,
   "id": "cfe3d723",
   "metadata": {},
   "outputs": [
    {
     "name": "stdout",
     "output_type": "stream",
     "text": [
      "AdaBoost Classifier: \n",
      "[[709  67]\n",
      " [ 21 148]]\n",
      "accuracy:  90.68783068783068\n"
     ]
    }
   ],
   "source": [
    "from sklearn.ensemble import AdaBoostClassifier\n",
    "print(\"AdaBoost Classifier: \")\n",
    "AdaBoost = AdaBoostClassifier(n_estimators=100,learning_rate=1,random_state=0)\n",
    "AdaBoost.fit(X_train,y_train)\n",
    "y_predictionAdaBoost = AdaBoost.predict(X_test)\n",
    "print(metrics.confusion_matrix(y_test,y_predictionAdaBoost))\n",
    "print(\"accuracy: \", metrics.accuracy_score(y_test,y_predictionAdaBoost) * 100)"
   ]
  },
  {
   "cell_type": "markdown",
   "id": "46c88d81",
   "metadata": {},
   "source": [
    "# Voting Classifier"
   ]
  },
  {
   "cell_type": "code",
   "execution_count": 19,
   "id": "0e4a9c8f",
   "metadata": {},
   "outputs": [
    {
     "name": "stdout",
     "output_type": "stream",
     "text": [
      "Voting with SVM,Logistic,Knn,Descision Tree, Adaboost, MLP, Extra Tree:\n",
      "Accuracy:  95.23809523809523\n",
      "[[754  22]\n",
      " [ 23 146]]\n",
      "Report for Voting: \n",
      "              precision    recall  f1-score   support\n",
      "\n",
      "           0       0.97      0.97      0.97       776\n",
      "           1       0.87      0.86      0.87       169\n",
      "\n",
      "    accuracy                           0.95       945\n",
      "   macro avg       0.92      0.92      0.92       945\n",
      "weighted avg       0.95      0.95      0.95       945\n",
      "\n"
     ]
    }
   ],
   "source": [
    "from sklearn.ensemble import VotingClassifier\n",
    "Voting_Classification = VotingClassifier(estimators=[('lr',logRegression),('rf', RandomClassifier),('dt',DecisionTree),('knn',KNN),('ada',AdaBoost)],weights=[1,3,1,2,1],flatten_transform=True)\n",
    "Voting_Classification.fit(X_train,y_train)\n",
    "y_predictionVoting=Voting_Classification.predict(X_test)\n",
    "print(\"Voting with SVM,Logistic,Knn,Descision Tree, Adaboost, MLP, Extra Tree:\")\n",
    "print(\"Accuracy: \",metrics.accuracy_score(y_test, y_predictionVoting)*100)\n",
    "\n",
    "print(metrics.confusion_matrix(y_test,y_predictionVoting))\n",
    "\n",
    "# aucVoting=multiclass_roc_auc_score(y_test,y_predictionVoting,average=\"macro\")\n",
    "# print(\"Are under Curve for Voting: \", aucVoting)\n",
    "\n",
    "print(\"Report for Voting: \")\n",
    "print(metrics.classification_report(y_test,y_predictionVoting))"
   ]
  },
  {
   "cell_type": "markdown",
   "id": "ffe961da",
   "metadata": {},
   "source": [
    "# AUC From Different Classifiers"
   ]
  },
  {
   "cell_type": "code",
   "execution_count": 20,
   "id": "370c3dae",
   "metadata": {},
   "outputs": [
    {
     "data": {
      "image/png": "[encoded data removed]",
      "text/plain": [
       "<Figure size 500x500 with 1 Axes>"
      ]
     },
     "metadata": {
      "needs_background": "light"
     },
     "output_type": "display_data"
    }
   ],
   "source": [
    "plt.figure(figsize=(5, 5), dpi=100)\n",
    "\n",
    "logistic_fpr,logistic_tpr,threshold = roc_curve(y_test, y_predictionLogistic)\n",
    "auc_logistic = auc(logistic_fpr, logistic_tpr)\n",
    "plt.plot(logistic_fpr, logistic_tpr, marker='.', label='Logistic (auc = %0.3f)' % auc_logistic)\n",
    "\n",
    "RandomForest_fpr,RandomForest_tpr,threshold = roc_curve(y_test, y_predictionRandomForest)\n",
    "auc_RandomForest = auc(RandomForest_fpr, RandomForest_tpr)\n",
    "plt.plot(RandomForest_fpr, RandomForest_tpr, marker='.', label='Random Forest (auc = %0.3f)' % auc_RandomForest)\n",
    "\n",
    "DecisionTree_fpr,DecisionTree_tpr,threshold = roc_curve(y_test, y_predictionDecisionTree)\n",
    "auc_DecisionTree = auc(DecisionTree_fpr, DecisionTree_tpr)\n",
    "plt.plot(DecisionTree_fpr, DecisionTree_tpr, marker='.', label='Decision Tree (auc = %0.3f)' % auc_DecisionTree)\n",
    "\n",
    "KNN_fpr,KNN_tpr,threshold = roc_curve(y_test, y_predictionKNN)\n",
    "auc_KNN = auc(KNN_fpr, KNN_tpr)\n",
    "plt.plot(KNN_fpr, KNN_tpr, marker='.', label='KNN (auc = %0.3f)' % auc_KNN)\n",
    "\n",
    "AdaBoost_fpr,AdaBoost_tpr,threshold = roc_curve(y_test, y_predictionAdaBoost)\n",
    "auc_AdaBoost = auc(AdaBoost_fpr, AdaBoost_tpr)\n",
    "plt.plot(AdaBoost_fpr, AdaBoost_tpr, marker='.', label='AdaBoost (auc = %0.3f)' % auc_AdaBoost)\n",
    "\n",
    "VotingClassifier_fpr,VotingClassifier_tpr,threshold = roc_curve(y_test, y_predictionVoting)\n",
    "auc_VotingClassifier = auc(VotingClassifier_fpr, VotingClassifier_tpr)\n",
    "plt.plot(VotingClassifier_fpr, VotingClassifier_tpr, marker='.', label='Voting Classifier (auc = %0.3f)' % auc_VotingClassifier)\n",
    "\n",
    "\n",
    "plt.xlabel('False Positive Rate -->')\n",
    "plt.ylabel('True Positive Rate -->')\n",
    "plt.legend()\n",
    "plt.show()"
   ]
  },
  {
   "cell_type": "code",
   "execution_count": null,
   "id": "1e3e7a99",
   "metadata": {},
   "outputs": [],
   "source": []
  }
 ],
 "metadata": {
  "kernelspec": {
   "display_name": "Python 3 (ipykernel)",
   "language": "python",
   "name": "python3"
  },
  "language_info": {
   "codemirror_mode": {
    "name": "ipython",
    "version": 3
   },
   "file_extension": ".py",
   "mimetype": "text/x-python",
   "name": "python",
   "nbconvert_exporter": "python",
   "pygments_lexer": "ipython3",
   "version": "3.9.6"
  }
 },
 "nbformat": 4,
 "nbformat_minor": 5
}
